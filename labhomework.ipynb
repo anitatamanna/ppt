{
  "nbformat": 4,
  "nbformat_minor": 0,
  "metadata": {
    "colab": {
      "provenance": [],
      "authorship_tag": "ABX9TyOPilk7HChsGNT51wxennT7",
      "include_colab_link": true
    },
    "kernelspec": {
      "name": "python3",
      "display_name": "Python 3"
    },
    "language_info": {
      "name": "python"
    }
  },
  "cells": [
    {
      "cell_type": "markdown",
      "metadata": {
        "id": "view-in-github",
        "colab_type": "text"
      },
      "source": [
        "<a href=\"https://colab.research.google.com/github/anitatamanna/ppt/blob/main/labhomework.ipynb\" target=\"_parent\"><img src=\"https://colab.research.google.com/assets/colab-badge.svg\" alt=\"Open In Colab\"/></a>"
      ]
    },
    {
      "cell_type": "code",
      "execution_count": 20,
      "metadata": {
        "id": "MxOOlNHJHbt8"
      },
      "outputs": [],
      "source": []
    },
    {
      "cell_type": "code",
      "source": [
        "# python arithmatic operations\n",
        "# Define two numbers\n",
        "a = 10\n",
        "b = 3\n",
        "\n",
        "# Arithmetic operations\n",
        "addition = a + b\n",
        "subtraction = a - b\n",
        "multiplication = a * b\n",
        "division = a / b            # Regular division (returns float)\n",
        "floor_division = a // b     # Floor division (returns integer)\n",
        "modulus = a % b             # Remainder\n",
        "exponentiation = a ** b     # Power (a raised to the power of b)\n",
        "\n",
        "# Print results\n",
        "print(\"Addition:\", addition)\n",
        "print(\"Subtraction:\", subtraction)\n",
        "print(\"Multiplication:\", multiplication)\n",
        "print(\"Division:\", division)\n",
        "print(\"Floor Division:\", floor_division)\n",
        "print(\"Modulus:\", modulus)\n",
        "print(\"Exponentiation:\", exponentiation)\n"
      ],
      "metadata": {
        "colab": {
          "base_uri": "https://localhost:8080/"
        },
        "id": "CLza0zfOKutG",
        "outputId": "e43b7b39-acab-448a-f3ad-b0c6adf2e5f0"
      },
      "execution_count": 3,
      "outputs": [
        {
          "output_type": "stream",
          "name": "stdout",
          "text": [
            "Addition: 13\n",
            "Subtraction: 7\n",
            "Multiplication: 30\n",
            "Division: 3.3333333333333335\n",
            "Floor Division: 3\n",
            "Modulus: 1\n",
            "Exponentiation: 1000\n"
          ]
        }
      ]
    },
    {
      "cell_type": "code",
      "source": [
        "# Get user input and convert to integer\n",
        "number = int(input(\"Enter a number: \"))\n",
        "\n",
        "# Conditional statements\n",
        "if number > 0:\n",
        "    print(\"The number is positive\")\n",
        "elif number == 0:\n",
        "    print(\"The number is zero\")\n",
        "else:\n",
        "    print(\"The number is negative\")\n"
      ],
      "metadata": {
        "colab": {
          "base_uri": "https://localhost:8080/"
        },
        "id": "f1qxvcvoOjVt",
        "outputId": "4e3f0605-296e-4b5d-a96e-e1eaf83c8bff"
      },
      "execution_count": 9,
      "outputs": [
        {
          "output_type": "stream",
          "name": "stdout",
          "text": [
            "Enter a number: 5\n",
            "The number is positive\n"
          ]
        }
      ]
    },
    {
      "cell_type": "code",
      "source": [
        "# Get input from user\n",
        "num = int(input(\"Enter a number to display its multiplication table: \"))\n",
        "\n",
        "# Print multiplication table up to 10\n",
        "print(f\"\\nMultiplication Table for {num}:\")\n",
        "for i in range(1, 11):\n",
        "    print(f\"{num} x {i} = {num * i}\")\n"
      ],
      "metadata": {
        "colab": {
          "base_uri": "https://localhost:8080/"
        },
        "id": "wLPcIGltP0Aj",
        "outputId": "4118142e-23b5-4eb9-97fc-66fd8e838283"
      },
      "execution_count": 11,
      "outputs": [
        {
          "output_type": "stream",
          "name": "stdout",
          "text": [
            "Enter a number to display its multiplication table: 9\n",
            "\n",
            "Multiplication Table for 9:\n",
            "9 x 1 = 9\n",
            "9 x 2 = 18\n",
            "9 x 3 = 27\n",
            "9 x 4 = 36\n",
            "9 x 5 = 45\n",
            "9 x 6 = 54\n",
            "9 x 7 = 63\n",
            "9 x 8 = 72\n",
            "9 x 9 = 81\n",
            "9 x 10 = 90\n"
          ]
        }
      ]
    },
    {
      "cell_type": "code",
      "source": [
        "import random\n",
        "\n",
        "fruits = ['apple', 'banana', 'cherry', 'mango']\n",
        "chosen = random.choice(fruits)\n",
        "print(\"Randomly selected fruit:\", chosen)\n"
      ],
      "metadata": {
        "colab": {
          "base_uri": "https://localhost:8080/"
        },
        "id": "D7yeV4CsQpzK",
        "outputId": "d72d20e8-fab5-4f64-a18a-d6cdb7e852fd"
      },
      "execution_count": 13,
      "outputs": [
        {
          "output_type": "stream",
          "name": "stdout",
          "text": [
            "Randomly selected fruit: mango\n"
          ]
        }
      ]
    },
    {
      "cell_type": "code",
      "source": [
        "# Define the dictionary\n",
        "country_capitals = {\n",
        "    \"Bangladesh\": \"Dhaka\",\n",
        "    \"India\": \"New Delhi\",\n",
        "    \"USA\": \"Washington, D.C.\",\n",
        "    \"France\": \"Paris\",\n",
        "    \"Japan\": \"Tokyo\"\n",
        "}\n",
        "\n",
        "# Check if a country is in the dictionary\n",
        "if \"India\" in country_capitals:\n",
        "    print(\"India is in the dictionary.\")\n",
        "\n",
        "# Check for a country not in the dictionary\n",
        "if \"Germany\" not in country_capitals:\n",
        "    print(\"Germany is not in the dictionary.\")\n"
      ],
      "metadata": {
        "colab": {
          "base_uri": "https://localhost:8080/"
        },
        "id": "dMSsAlhyS5GR",
        "outputId": "e12d6ce7-3485-4760-9de9-7fcdfb5b9883"
      },
      "execution_count": 14,
      "outputs": [
        {
          "output_type": "stream",
          "name": "stdout",
          "text": [
            "India is in the dictionary.\n",
            "Germany is not in the dictionary.\n"
          ]
        }
      ]
    },
    {
      "cell_type": "code",
      "source": [
        "# Define the function\n",
        "def add_numbers(a, b):\n",
        "    return a + b\n",
        "\n",
        "# Call the function with example values\n",
        "result = add_numbers(5, 7)\n",
        "\n",
        "# Print the result\n",
        "print(\"The sum is:\", result)\n"
      ],
      "metadata": {
        "colab": {
          "base_uri": "https://localhost:8080/"
        },
        "id": "1P6UZ4GfVWw-",
        "outputId": "22a0b129-c086-41d1-a082-3a4b657f3cba"
      },
      "execution_count": 15,
      "outputs": [
        {
          "output_type": "stream",
          "name": "stdout",
          "text": [
            "The sum is: 12\n"
          ]
        }
      ]
    },
    {
      "cell_type": "code",
      "source": [
        "import math\n",
        "\n",
        "# Access the value of pi\n",
        "pi_value = math.pi\n",
        "\n",
        "# Print the value\n",
        "print(\"The value of pi is:\", pi_value)\n"
      ],
      "metadata": {
        "colab": {
          "base_uri": "https://localhost:8080/"
        },
        "id": "gXZFQ0URV2xO",
        "outputId": "5f953488-4191-4e4d-e791-825c414f1f66"
      },
      "execution_count": 16,
      "outputs": [
        {
          "output_type": "stream",
          "name": "stdout",
          "text": [
            "The value of pi is: 3.141592653589793\n"
          ]
        }
      ]
    },
    {
      "cell_type": "code",
      "source": [
        "def factorial(n):\n",
        "    # Base case: factorial of 0 or 1 is 1\n",
        "    if n == 0 or n == 1:\n",
        "        return 1\n",
        "    # Recursive case\n",
        "    else:\n",
        "        return n * factorial(n - 1)\n",
        "\n",
        "# Example usage\n",
        "number = 6\n",
        "print(\"Factorial of\", number, \"is:\", factorial(number))\n"
      ],
      "metadata": {
        "colab": {
          "base_uri": "https://localhost:8080/"
        },
        "id": "ySQk4f3EWtB1",
        "outputId": "d75cdcb8-8780-409e-9920-58fb6db132c9"
      },
      "execution_count": 17,
      "outputs": [
        {
          "output_type": "stream",
          "name": "stdout",
          "text": [
            "Factorial of 6 is: 720\n"
          ]
        }
      ]
    },
    {
      "cell_type": "code",
      "source": [
        "# Define a tuple\n",
        "fruits = (\"apple\", \"banana\", \"cherry\")\n",
        "\n",
        "# Check if \"banana\" is in the tuple\n",
        "if \"banana\" in fruits:\n",
        "    print(\"Yes, 'banana' is in the tuple.\")\n",
        "\n",
        "# Check if \"mango\" is not in the tuple\n",
        "if \"mango\" not in fruits:\n",
        "    print(\"No, 'mango' is not in the tuple.\")\n"
      ],
      "metadata": {
        "colab": {
          "base_uri": "https://localhost:8080/"
        },
        "id": "9eZLeImiXaX0",
        "outputId": "2a705e89-f855-4530-f191-10d27966a9fc"
      },
      "execution_count": 18,
      "outputs": [
        {
          "output_type": "stream",
          "name": "stdout",
          "text": [
            "Yes, 'banana' is in the tuple.\n",
            "No, 'mango' is not in the tuple.\n"
          ]
        }
      ]
    },
    {
      "cell_type": "code",
      "source": [
        "class University:\n",
        "    name = \"Greenfield University\"\n",
        "\n",
        "    @staticmethod\n",
        "    def calculate_gpa(marks):\n",
        "        total = sum(marks)\n",
        "        gpa = total / len(marks)\n",
        "        return round(gpa, 2)\n",
        "\n",
        "# Example usage:\n",
        "student_marks = [85, 90, 78, 92, 88]\n",
        "gpa = University.calculate_gpa(student_marks)\n",
        "\n",
        "print(\"Student GPA:\", gpa)\n"
      ],
      "metadata": {
        "colab": {
          "base_uri": "https://localhost:8080/"
        },
        "id": "dqlQfnOVZdzL",
        "outputId": "50f4ef23-c394-45d7-fbbd-50d6a5c1a94a"
      },
      "execution_count": 19,
      "outputs": [
        {
          "output_type": "stream",
          "name": "stdout",
          "text": [
            "Student GPA: 86.6\n"
          ]
        }
      ]
    }
  ]
}